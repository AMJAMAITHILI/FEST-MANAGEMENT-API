{
  "nbformat": 4,
  "nbformat_minor": 0,
  "metadata": {
    "colab": {
      "provenance": [],
      "authorship_tag": "ABX9TyNyA+QepclTlzGIdgr3byjT",
      "include_colab_link": true
    },
    "kernelspec": {
      "name": "python3",
      "display_name": "Python 3"
    },
    "language_info": {
      "name": "python"
    }
  },
  "cells": [
    {
      "cell_type": "markdown",
      "metadata": {
        "id": "view-in-github",
        "colab_type": "text"
      },
      "source": [
        "<a href=\"https://colab.research.google.com/github/AMJAMAITHILI/FEST-MANAGEMENT-API/blob/main/DAV_Assignment(141).ipynb\" target=\"_parent\"><img src=\"https://colab.research.google.com/assets/colab-badge.svg\" alt=\"Open In Colab\"/></a>"
      ]
    },
    {
      "cell_type": "code",
      "execution_count": 1,
      "metadata": {
        "id": "kLSc2pf12r34"
      },
      "outputs": [],
      "source": [
        "import numpy as np\n",
        "import pandas as pd\n",
        "import matplotlib.pyplot as plt\n",
        "import seaborn as sns"
      ]
    },
    {
      "cell_type": "markdown",
      "source": [
        "=>Step 1: Data Loading & Inspection"
      ],
      "metadata": {
        "id": "1vMD8XJr3Di6"
      }
    },
    {
      "cell_type": "code",
      "source": [
        "df = pd.read_csv('Sleep_health_and_lifestyle_dataset.csv')\n",
        "print(\"First 5 rows:\")\n",
        "df.head()"
      ],
      "metadata": {
        "colab": {
          "base_uri": "https://localhost:8080/",
          "height": 310
        },
        "id": "4ICBl1UD257B",
        "outputId": "0e06940e-ea43-4b47-9942-6741beb144ef"
      },
      "execution_count": 15,
      "outputs": [
        {
          "output_type": "stream",
          "name": "stdout",
          "text": [
            "First 5 rows:\n"
          ]
        },
        {
          "output_type": "execute_result",
          "data": {
            "text/plain": [
              "   Person ID Gender  Age            Occupation  Sleep Duration  \\\n",
              "0          1   Male   27     Software Engineer             6.1   \n",
              "1          2   Male   28                Doctor             6.2   \n",
              "2          3   Male   28                Doctor             6.2   \n",
              "3          4   Male   28  Sales Representative             5.9   \n",
              "4          5   Male   28  Sales Representative             5.9   \n",
              "\n",
              "   Quality of Sleep  Physical Activity Level  Stress Level BMI Category  \\\n",
              "0                 6                     42.0           6.0   Overweight   \n",
              "1                 6                     60.0           8.0       Normal   \n",
              "2                 6                     60.0           8.0       Normal   \n",
              "3                 4                     30.0           8.0        Obese   \n",
              "4                 4                     30.0           8.0        Obese   \n",
              "\n",
              "  Blood Pressure  Heart Rate  Daily Steps Sleep Disorder  \n",
              "0         126/83          77         4200            NaN  \n",
              "1         125/80          75        10000            NaN  \n",
              "2         125/80          75        10000            NaN  \n",
              "3         140/90          85         3000    Sleep Apnea  \n",
              "4         140/90          85         3000    Sleep Apnea  "
            ],
            "text/html": [
              "\n",
              "  <div id=\"df-d364eaa0-5d3e-4b7f-8ce5-6f2be77d6093\" class=\"colab-df-container\">\n",
              "    <div>\n",
              "<style scoped>\n",
              "    .dataframe tbody tr th:only-of-type {\n",
              "        vertical-align: middle;\n",
              "    }\n",
              "\n",
              "    .dataframe tbody tr th {\n",
              "        vertical-align: top;\n",
              "    }\n",
              "\n",
              "    .dataframe thead th {\n",
              "        text-align: right;\n",
              "    }\n",
              "</style>\n",
              "<table border=\"1\" class=\"dataframe\">\n",
              "  <thead>\n",
              "    <tr style=\"text-align: right;\">\n",
              "      <th></th>\n",
              "      <th>Person ID</th>\n",
              "      <th>Gender</th>\n",
              "      <th>Age</th>\n",
              "      <th>Occupation</th>\n",
              "      <th>Sleep Duration</th>\n",
              "      <th>Quality of Sleep</th>\n",
              "      <th>Physical Activity Level</th>\n",
              "      <th>Stress Level</th>\n",
              "      <th>BMI Category</th>\n",
              "      <th>Blood Pressure</th>\n",
              "      <th>Heart Rate</th>\n",
              "      <th>Daily Steps</th>\n",
              "      <th>Sleep Disorder</th>\n",
              "    </tr>\n",
              "  </thead>\n",
              "  <tbody>\n",
              "    <tr>\n",
              "      <th>0</th>\n",
              "      <td>1</td>\n",
              "      <td>Male</td>\n",
              "      <td>27</td>\n",
              "      <td>Software Engineer</td>\n",
              "      <td>6.1</td>\n",
              "      <td>6</td>\n",
              "      <td>42.0</td>\n",
              "      <td>6.0</td>\n",
              "      <td>Overweight</td>\n",
              "      <td>126/83</td>\n",
              "      <td>77</td>\n",
              "      <td>4200</td>\n",
              "      <td>NaN</td>\n",
              "    </tr>\n",
              "    <tr>\n",
              "      <th>1</th>\n",
              "      <td>2</td>\n",
              "      <td>Male</td>\n",
              "      <td>28</td>\n",
              "      <td>Doctor</td>\n",
              "      <td>6.2</td>\n",
              "      <td>6</td>\n",
              "      <td>60.0</td>\n",
              "      <td>8.0</td>\n",
              "      <td>Normal</td>\n",
              "      <td>125/80</td>\n",
              "      <td>75</td>\n",
              "      <td>10000</td>\n",
              "      <td>NaN</td>\n",
              "    </tr>\n",
              "    <tr>\n",
              "      <th>2</th>\n",
              "      <td>3</td>\n",
              "      <td>Male</td>\n",
              "      <td>28</td>\n",
              "      <td>Doctor</td>\n",
              "      <td>6.2</td>\n",
              "      <td>6</td>\n",
              "      <td>60.0</td>\n",
              "      <td>8.0</td>\n",
              "      <td>Normal</td>\n",
              "      <td>125/80</td>\n",
              "      <td>75</td>\n",
              "      <td>10000</td>\n",
              "      <td>NaN</td>\n",
              "    </tr>\n",
              "    <tr>\n",
              "      <th>3</th>\n",
              "      <td>4</td>\n",
              "      <td>Male</td>\n",
              "      <td>28</td>\n",
              "      <td>Sales Representative</td>\n",
              "      <td>5.9</td>\n",
              "      <td>4</td>\n",
              "      <td>30.0</td>\n",
              "      <td>8.0</td>\n",
              "      <td>Obese</td>\n",
              "      <td>140/90</td>\n",
              "      <td>85</td>\n",
              "      <td>3000</td>\n",
              "      <td>Sleep Apnea</td>\n",
              "    </tr>\n",
              "    <tr>\n",
              "      <th>4</th>\n",
              "      <td>5</td>\n",
              "      <td>Male</td>\n",
              "      <td>28</td>\n",
              "      <td>Sales Representative</td>\n",
              "      <td>5.9</td>\n",
              "      <td>4</td>\n",
              "      <td>30.0</td>\n",
              "      <td>8.0</td>\n",
              "      <td>Obese</td>\n",
              "      <td>140/90</td>\n",
              "      <td>85</td>\n",
              "      <td>3000</td>\n",
              "      <td>Sleep Apnea</td>\n",
              "    </tr>\n",
              "  </tbody>\n",
              "</table>\n",
              "</div>\n",
              "    <div class=\"colab-df-buttons\">\n",
              "\n",
              "  <div class=\"colab-df-container\">\n",
              "    <button class=\"colab-df-convert\" onclick=\"convertToInteractive('df-d364eaa0-5d3e-4b7f-8ce5-6f2be77d6093')\"\n",
              "            title=\"Convert this dataframe to an interactive table.\"\n",
              "            style=\"display:none;\">\n",
              "\n",
              "  <svg xmlns=\"http://www.w3.org/2000/svg\" height=\"24px\" viewBox=\"0 -960 960 960\">\n",
              "    <path d=\"M120-120v-720h720v720H120Zm60-500h600v-160H180v160Zm220 220h160v-160H400v160Zm0 220h160v-160H400v160ZM180-400h160v-160H180v160Zm440 0h160v-160H620v160ZM180-180h160v-160H180v160Zm440 0h160v-160H620v160Z\"/>\n",
              "  </svg>\n",
              "    </button>\n",
              "\n",
              "  <style>\n",
              "    .colab-df-container {\n",
              "      display:flex;\n",
              "      gap: 12px;\n",
              "    }\n",
              "\n",
              "    .colab-df-convert {\n",
              "      background-color: #E8F0FE;\n",
              "      border: none;\n",
              "      border-radius: 50%;\n",
              "      cursor: pointer;\n",
              "      display: none;\n",
              "      fill: #1967D2;\n",
              "      height: 32px;\n",
              "      padding: 0 0 0 0;\n",
              "      width: 32px;\n",
              "    }\n",
              "\n",
              "    .colab-df-convert:hover {\n",
              "      background-color: #E2EBFA;\n",
              "      box-shadow: 0px 1px 2px rgba(60, 64, 67, 0.3), 0px 1px 3px 1px rgba(60, 64, 67, 0.15);\n",
              "      fill: #174EA6;\n",
              "    }\n",
              "\n",
              "    .colab-df-buttons div {\n",
              "      margin-bottom: 4px;\n",
              "    }\n",
              "\n",
              "    [theme=dark] .colab-df-convert {\n",
              "      background-color: #3B4455;\n",
              "      fill: #D2E3FC;\n",
              "    }\n",
              "\n",
              "    [theme=dark] .colab-df-convert:hover {\n",
              "      background-color: #434B5C;\n",
              "      box-shadow: 0px 1px 3px 1px rgba(0, 0, 0, 0.15);\n",
              "      filter: drop-shadow(0px 1px 2px rgba(0, 0, 0, 0.3));\n",
              "      fill: #FFFFFF;\n",
              "    }\n",
              "  </style>\n",
              "\n",
              "    <script>\n",
              "      const buttonEl =\n",
              "        document.querySelector('#df-d364eaa0-5d3e-4b7f-8ce5-6f2be77d6093 button.colab-df-convert');\n",
              "      buttonEl.style.display =\n",
              "        google.colab.kernel.accessAllowed ? 'block' : 'none';\n",
              "\n",
              "      async function convertToInteractive(key) {\n",
              "        const element = document.querySelector('#df-d364eaa0-5d3e-4b7f-8ce5-6f2be77d6093');\n",
              "        const dataTable =\n",
              "          await google.colab.kernel.invokeFunction('convertToInteractive',\n",
              "                                                    [key], {});\n",
              "        if (!dataTable) return;\n",
              "\n",
              "        const docLinkHtml = 'Like what you see? Visit the ' +\n",
              "          '<a target=\"_blank\" href=https://colab.research.google.com/notebooks/data_table.ipynb>data table notebook</a>'\n",
              "          + ' to learn more about interactive tables.';\n",
              "        element.innerHTML = '';\n",
              "        dataTable['output_type'] = 'display_data';\n",
              "        await google.colab.output.renderOutput(dataTable, element);\n",
              "        const docLink = document.createElement('div');\n",
              "        docLink.innerHTML = docLinkHtml;\n",
              "        element.appendChild(docLink);\n",
              "      }\n",
              "    </script>\n",
              "  </div>\n",
              "\n",
              "\n",
              "<div id=\"df-35bce1ce-d732-4c98-9559-5aa0b79fa319\">\n",
              "  <button class=\"colab-df-quickchart\" onclick=\"quickchart('df-35bce1ce-d732-4c98-9559-5aa0b79fa319')\"\n",
              "            title=\"Suggest charts\"\n",
              "            style=\"display:none;\">\n",
              "\n",
              "<svg xmlns=\"http://www.w3.org/2000/svg\" height=\"24px\"viewBox=\"0 0 24 24\"\n",
              "     width=\"24px\">\n",
              "    <g>\n",
              "        <path d=\"M19 3H5c-1.1 0-2 .9-2 2v14c0 1.1.9 2 2 2h14c1.1 0 2-.9 2-2V5c0-1.1-.9-2-2-2zM9 17H7v-7h2v7zm4 0h-2V7h2v10zm4 0h-2v-4h2v4z\"/>\n",
              "    </g>\n",
              "</svg>\n",
              "  </button>\n",
              "\n",
              "<style>\n",
              "  .colab-df-quickchart {\n",
              "      --bg-color: #E8F0FE;\n",
              "      --fill-color: #1967D2;\n",
              "      --hover-bg-color: #E2EBFA;\n",
              "      --hover-fill-color: #174EA6;\n",
              "      --disabled-fill-color: #AAA;\n",
              "      --disabled-bg-color: #DDD;\n",
              "  }\n",
              "\n",
              "  [theme=dark] .colab-df-quickchart {\n",
              "      --bg-color: #3B4455;\n",
              "      --fill-color: #D2E3FC;\n",
              "      --hover-bg-color: #434B5C;\n",
              "      --hover-fill-color: #FFFFFF;\n",
              "      --disabled-bg-color: #3B4455;\n",
              "      --disabled-fill-color: #666;\n",
              "  }\n",
              "\n",
              "  .colab-df-quickchart {\n",
              "    background-color: var(--bg-color);\n",
              "    border: none;\n",
              "    border-radius: 50%;\n",
              "    cursor: pointer;\n",
              "    display: none;\n",
              "    fill: var(--fill-color);\n",
              "    height: 32px;\n",
              "    padding: 0;\n",
              "    width: 32px;\n",
              "  }\n",
              "\n",
              "  .colab-df-quickchart:hover {\n",
              "    background-color: var(--hover-bg-color);\n",
              "    box-shadow: 0 1px 2px rgba(60, 64, 67, 0.3), 0 1px 3px 1px rgba(60, 64, 67, 0.15);\n",
              "    fill: var(--button-hover-fill-color);\n",
              "  }\n",
              "\n",
              "  .colab-df-quickchart-complete:disabled,\n",
              "  .colab-df-quickchart-complete:disabled:hover {\n",
              "    background-color: var(--disabled-bg-color);\n",
              "    fill: var(--disabled-fill-color);\n",
              "    box-shadow: none;\n",
              "  }\n",
              "\n",
              "  .colab-df-spinner {\n",
              "    border: 2px solid var(--fill-color);\n",
              "    border-color: transparent;\n",
              "    border-bottom-color: var(--fill-color);\n",
              "    animation:\n",
              "      spin 1s steps(1) infinite;\n",
              "  }\n",
              "\n",
              "  @keyframes spin {\n",
              "    0% {\n",
              "      border-color: transparent;\n",
              "      border-bottom-color: var(--fill-color);\n",
              "      border-left-color: var(--fill-color);\n",
              "    }\n",
              "    20% {\n",
              "      border-color: transparent;\n",
              "      border-left-color: var(--fill-color);\n",
              "      border-top-color: var(--fill-color);\n",
              "    }\n",
              "    30% {\n",
              "      border-color: transparent;\n",
              "      border-left-color: var(--fill-color);\n",
              "      border-top-color: var(--fill-color);\n",
              "      border-right-color: var(--fill-color);\n",
              "    }\n",
              "    40% {\n",
              "      border-color: transparent;\n",
              "      border-right-color: var(--fill-color);\n",
              "      border-top-color: var(--fill-color);\n",
              "    }\n",
              "    60% {\n",
              "      border-color: transparent;\n",
              "      border-right-color: var(--fill-color);\n",
              "    }\n",
              "    80% {\n",
              "      border-color: transparent;\n",
              "      border-right-color: var(--fill-color);\n",
              "      border-bottom-color: var(--fill-color);\n",
              "    }\n",
              "    90% {\n",
              "      border-color: transparent;\n",
              "      border-bottom-color: var(--fill-color);\n",
              "    }\n",
              "  }\n",
              "</style>\n",
              "\n",
              "  <script>\n",
              "    async function quickchart(key) {\n",
              "      const quickchartButtonEl =\n",
              "        document.querySelector('#' + key + ' button');\n",
              "      quickchartButtonEl.disabled = true;  // To prevent multiple clicks.\n",
              "      quickchartButtonEl.classList.add('colab-df-spinner');\n",
              "      try {\n",
              "        const charts = await google.colab.kernel.invokeFunction(\n",
              "            'suggestCharts', [key], {});\n",
              "      } catch (error) {\n",
              "        console.error('Error during call to suggestCharts:', error);\n",
              "      }\n",
              "      quickchartButtonEl.classList.remove('colab-df-spinner');\n",
              "      quickchartButtonEl.classList.add('colab-df-quickchart-complete');\n",
              "    }\n",
              "    (() => {\n",
              "      let quickchartButtonEl =\n",
              "        document.querySelector('#df-35bce1ce-d732-4c98-9559-5aa0b79fa319 button');\n",
              "      quickchartButtonEl.style.display =\n",
              "        google.colab.kernel.accessAllowed ? 'block' : 'none';\n",
              "    })();\n",
              "  </script>\n",
              "</div>\n",
              "\n",
              "    </div>\n",
              "  </div>\n"
            ],
            "application/vnd.google.colaboratory.intrinsic+json": {
              "type": "dataframe",
              "variable_name": "df",
              "summary": "{\n  \"name\": \"df\",\n  \"rows\": 374,\n  \"fields\": [\n    {\n      \"column\": \"Person ID\",\n      \"properties\": {\n        \"dtype\": \"number\",\n        \"std\": 108,\n        \"min\": 1,\n        \"max\": 374,\n        \"num_unique_values\": 374,\n        \"samples\": [\n          330,\n          34,\n          16\n        ],\n        \"semantic_type\": \"\",\n        \"description\": \"\"\n      }\n    },\n    {\n      \"column\": \"Gender\",\n      \"properties\": {\n        \"dtype\": \"category\",\n        \"num_unique_values\": 2,\n        \"samples\": [\n          \"Female\",\n          \"Male\"\n        ],\n        \"semantic_type\": \"\",\n        \"description\": \"\"\n      }\n    },\n    {\n      \"column\": \"Age\",\n      \"properties\": {\n        \"dtype\": \"number\",\n        \"std\": 8,\n        \"min\": 27,\n        \"max\": 59,\n        \"num_unique_values\": 31,\n        \"samples\": [\n          56,\n          42\n        ],\n        \"semantic_type\": \"\",\n        \"description\": \"\"\n      }\n    },\n    {\n      \"column\": \"Occupation\",\n      \"properties\": {\n        \"dtype\": \"category\",\n        \"num_unique_values\": 11,\n        \"samples\": [\n          \"Engineer\",\n          \"Software Engineer\"\n        ],\n        \"semantic_type\": \"\",\n        \"description\": \"\"\n      }\n    },\n    {\n      \"column\": \"Sleep Duration\",\n      \"properties\": {\n        \"dtype\": \"number\",\n        \"std\": 0.795371556300683,\n        \"min\": 5.8,\n        \"max\": 8.5,\n        \"num_unique_values\": 27,\n        \"samples\": [\n          7.9,\n          6.7\n        ],\n        \"semantic_type\": \"\",\n        \"description\": \"\"\n      }\n    },\n    {\n      \"column\": \"Quality of Sleep\",\n      \"properties\": {\n        \"dtype\": \"number\",\n        \"std\": 1,\n        \"min\": 4,\n        \"max\": 9,\n        \"num_unique_values\": 6,\n        \"samples\": [\n          6,\n          4\n        ],\n        \"semantic_type\": \"\",\n        \"description\": \"\"\n      }\n    },\n    {\n      \"column\": \"Physical Activity Level\",\n      \"properties\": {\n        \"dtype\": \"number\",\n        \"std\": 20.863021357670046,\n        \"min\": 30.0,\n        \"max\": 90.0,\n        \"num_unique_values\": 16,\n        \"samples\": [\n          42.0,\n          60.0\n        ],\n        \"semantic_type\": \"\",\n        \"description\": \"\"\n      }\n    },\n    {\n      \"column\": \"Stress Level\",\n      \"properties\": {\n        \"dtype\": \"number\",\n        \"std\": 1.776623098353006,\n        \"min\": 3.0,\n        \"max\": 8.0,\n        \"num_unique_values\": 6,\n        \"samples\": [\n          6.0,\n          8.0\n        ],\n        \"semantic_type\": \"\",\n        \"description\": \"\"\n      }\n    },\n    {\n      \"column\": \"BMI Category\",\n      \"properties\": {\n        \"dtype\": \"category\",\n        \"num_unique_values\": 4,\n        \"samples\": [\n          \"Normal\",\n          \"Normal Weight\"\n        ],\n        \"semantic_type\": \"\",\n        \"description\": \"\"\n      }\n    },\n    {\n      \"column\": \"Blood Pressure\",\n      \"properties\": {\n        \"dtype\": \"category\",\n        \"num_unique_values\": 25,\n        \"samples\": [\n          \"128/85\",\n          \"119/77\"\n        ],\n        \"semantic_type\": \"\",\n        \"description\": \"\"\n      }\n    },\n    {\n      \"column\": \"Heart Rate\",\n      \"properties\": {\n        \"dtype\": \"number\",\n        \"std\": 4,\n        \"min\": 65,\n        \"max\": 86,\n        \"num_unique_values\": 19,\n        \"samples\": [\n          77,\n          80\n        ],\n        \"semantic_type\": \"\",\n        \"description\": \"\"\n      }\n    },\n    {\n      \"column\": \"Daily Steps\",\n      \"properties\": {\n        \"dtype\": \"number\",\n        \"std\": 1617,\n        \"min\": 3000,\n        \"max\": 10000,\n        \"num_unique_values\": 20,\n        \"samples\": [\n          4200,\n          6200\n        ],\n        \"semantic_type\": \"\",\n        \"description\": \"\"\n      }\n    },\n    {\n      \"column\": \"Sleep Disorder\",\n      \"properties\": {\n        \"dtype\": \"category\",\n        \"num_unique_values\": 2,\n        \"samples\": [\n          \"Insomnia\",\n          \"Sleep Apnea\"\n        ],\n        \"semantic_type\": \"\",\n        \"description\": \"\"\n      }\n    }\n  ]\n}"
            }
          },
          "metadata": {},
          "execution_count": 15
        }
      ]
    },
    {
      "cell_type": "code",
      "source": [
        "print(\"\\nDataset Info:\\n\")\n",
        "print(df.info())\n"
      ],
      "metadata": {
        "colab": {
          "base_uri": "https://localhost:8080/"
        },
        "id": "zidmC6xc3nXB",
        "outputId": "02b0b2ac-60ab-4af2-f4b3-3c57223752e4"
      },
      "execution_count": 21,
      "outputs": [
        {
          "output_type": "stream",
          "name": "stdout",
          "text": [
            "\n",
            "Dataset Info:\n",
            "\n",
            "<class 'pandas.core.frame.DataFrame'>\n",
            "RangeIndex: 374 entries, 0 to 373\n",
            "Data columns (total 13 columns):\n",
            " #   Column                   Non-Null Count  Dtype  \n",
            "---  ------                   --------------  -----  \n",
            " 0   Person ID                374 non-null    int64  \n",
            " 1   Gender                   374 non-null    object \n",
            " 2   Age                      374 non-null    int64  \n",
            " 3   Occupation               374 non-null    object \n",
            " 4   Sleep Duration           374 non-null    float64\n",
            " 5   Quality of Sleep         374 non-null    int64  \n",
            " 6   Physical Activity Level  374 non-null    float64\n",
            " 7   Stress Level             374 non-null    float64\n",
            " 8   BMI Category             374 non-null    object \n",
            " 9   Blood Pressure           374 non-null    object \n",
            " 10  Heart Rate               374 non-null    int64  \n",
            " 11  Daily Steps              374 non-null    int64  \n",
            " 12  Sleep Disorder           374 non-null    object \n",
            "dtypes: float64(3), int64(5), object(5)\n",
            "memory usage: 38.1+ KB\n",
            "None\n"
          ]
        }
      ]
    },
    {
      "cell_type": "code",
      "source": [
        "print(\"\\nMissing Values:\\n\")\n",
        "df.isna().sum()"
      ],
      "metadata": {
        "colab": {
          "base_uri": "https://localhost:8080/",
          "height": 543
        },
        "id": "XsQ-YGsW4uea",
        "outputId": "f4fd348a-b4f7-4b22-f2ac-3645b870c749"
      },
      "execution_count": 17,
      "outputs": [
        {
          "output_type": "stream",
          "name": "stdout",
          "text": [
            "\n",
            "Missing Values:\n",
            "\n"
          ]
        },
        {
          "output_type": "execute_result",
          "data": {
            "text/plain": [
              "Person ID                    0\n",
              "Gender                       0\n",
              "Age                          0\n",
              "Occupation                   3\n",
              "Sleep Duration               5\n",
              "Quality of Sleep             0\n",
              "Physical Activity Level      6\n",
              "Stress Level                 1\n",
              "BMI Category                 2\n",
              "Blood Pressure               0\n",
              "Heart Rate                   0\n",
              "Daily Steps                  0\n",
              "Sleep Disorder             219\n",
              "dtype: int64"
            ],
            "text/html": [
              "<div>\n",
              "<style scoped>\n",
              "    .dataframe tbody tr th:only-of-type {\n",
              "        vertical-align: middle;\n",
              "    }\n",
              "\n",
              "    .dataframe tbody tr th {\n",
              "        vertical-align: top;\n",
              "    }\n",
              "\n",
              "    .dataframe thead th {\n",
              "        text-align: right;\n",
              "    }\n",
              "</style>\n",
              "<table border=\"1\" class=\"dataframe\">\n",
              "  <thead>\n",
              "    <tr style=\"text-align: right;\">\n",
              "      <th></th>\n",
              "      <th>0</th>\n",
              "    </tr>\n",
              "  </thead>\n",
              "  <tbody>\n",
              "    <tr>\n",
              "      <th>Person ID</th>\n",
              "      <td>0</td>\n",
              "    </tr>\n",
              "    <tr>\n",
              "      <th>Gender</th>\n",
              "      <td>0</td>\n",
              "    </tr>\n",
              "    <tr>\n",
              "      <th>Age</th>\n",
              "      <td>0</td>\n",
              "    </tr>\n",
              "    <tr>\n",
              "      <th>Occupation</th>\n",
              "      <td>3</td>\n",
              "    </tr>\n",
              "    <tr>\n",
              "      <th>Sleep Duration</th>\n",
              "      <td>5</td>\n",
              "    </tr>\n",
              "    <tr>\n",
              "      <th>Quality of Sleep</th>\n",
              "      <td>0</td>\n",
              "    </tr>\n",
              "    <tr>\n",
              "      <th>Physical Activity Level</th>\n",
              "      <td>6</td>\n",
              "    </tr>\n",
              "    <tr>\n",
              "      <th>Stress Level</th>\n",
              "      <td>1</td>\n",
              "    </tr>\n",
              "    <tr>\n",
              "      <th>BMI Category</th>\n",
              "      <td>2</td>\n",
              "    </tr>\n",
              "    <tr>\n",
              "      <th>Blood Pressure</th>\n",
              "      <td>0</td>\n",
              "    </tr>\n",
              "    <tr>\n",
              "      <th>Heart Rate</th>\n",
              "      <td>0</td>\n",
              "    </tr>\n",
              "    <tr>\n",
              "      <th>Daily Steps</th>\n",
              "      <td>0</td>\n",
              "    </tr>\n",
              "    <tr>\n",
              "      <th>Sleep Disorder</th>\n",
              "      <td>219</td>\n",
              "    </tr>\n",
              "  </tbody>\n",
              "</table>\n",
              "</div><br><label><b>dtype:</b> int64</label>"
            ]
          },
          "metadata": {},
          "execution_count": 17
        }
      ]
    },
    {
      "cell_type": "markdown",
      "source": [
        "=>Step 2: Clean Data"
      ],
      "metadata": {
        "id": "Cwv6JleE5CIW"
      }
    },
    {
      "cell_type": "code",
      "source": [
        "# Filling missing numerical columns with median\n",
        "num_cols = df.select_dtypes(include=[np.number]).columns\n",
        "for col in num_cols:\n",
        "    if df[col].isna().sum() > 0:\n",
        "        df[col] = df[col].fillna(df[col].median())\n",
        "\n",
        "# Filling categorical columns with mode, except 'Sleep Disorder'\n",
        "cat_cols = df.select_dtypes(include='object').columns\n",
        "for col in cat_cols:\n",
        "    if col == 'Sleep Disorder':\n",
        "        df[col] = df[col].fillna('No')\n",
        "    elif df[col].isna().sum() > 0:\n",
        "        df[col] = df[col].fillna(df[col].mode()[0])\n",
        "# Encode categorical variables\n",
        "df['Gender'] = df['Gender'].map({'Male': 0, 'Female': 1})\n"
      ],
      "metadata": {
        "id": "zhRrsE5t48nB"
      },
      "execution_count": 23,
      "outputs": []
    },
    {
      "cell_type": "code",
      "source": [
        "#After handling missing data\n",
        "print(df.isna().sum())\n",
        "print(\"First 5 rows:\")\n",
        "df.head()"
      ],
      "metadata": {
        "colab": {
          "base_uri": "https://localhost:8080/",
          "height": 553
        },
        "id": "uzkqT2Ho59Wy",
        "outputId": "a9dd0eec-a94d-480b-92da-d5a92c05e5ec"
      },
      "execution_count": 25,
      "outputs": [
        {
          "output_type": "stream",
          "name": "stdout",
          "text": [
            "Person ID                  0\n",
            "Gender                     0\n",
            "Age                        0\n",
            "Occupation                 0\n",
            "Sleep Duration             0\n",
            "Quality of Sleep           0\n",
            "Physical Activity Level    0\n",
            "Stress Level               0\n",
            "BMI Category               0\n",
            "Blood Pressure             0\n",
            "Heart Rate                 0\n",
            "Daily Steps                0\n",
            "Sleep Disorder             0\n",
            "dtype: int64\n",
            "First 5 rows:\n"
          ]
        },
        {
          "output_type": "execute_result",
          "data": {
            "text/plain": [
              "   Person ID  Gender  Age            Occupation  Sleep Duration  \\\n",
              "0          1       0   27     Software Engineer             6.1   \n",
              "1          2       0   28                Doctor             6.2   \n",
              "2          3       0   28                Doctor             6.2   \n",
              "3          4       0   28  Sales Representative             5.9   \n",
              "4          5       0   28  Sales Representative             5.9   \n",
              "\n",
              "   Quality of Sleep  Physical Activity Level  Stress Level BMI Category  \\\n",
              "0                 6                     42.0           6.0   Overweight   \n",
              "1                 6                     60.0           8.0       Normal   \n",
              "2                 6                     60.0           8.0       Normal   \n",
              "3                 4                     30.0           8.0        Obese   \n",
              "4                 4                     30.0           8.0        Obese   \n",
              "\n",
              "  Blood Pressure  Heart Rate  Daily Steps Sleep Disorder  \n",
              "0         126/83          77         4200             No  \n",
              "1         125/80          75        10000             No  \n",
              "2         125/80          75        10000             No  \n",
              "3         140/90          85         3000    Sleep Apnea  \n",
              "4         140/90          85         3000    Sleep Apnea  "
            ],
            "text/html": [
              "\n",
              "  <div id=\"df-4ce23b38-33f3-418d-ac5b-fdf4cd51cebf\" class=\"colab-df-container\">\n",
              "    <div>\n",
              "<style scoped>\n",
              "    .dataframe tbody tr th:only-of-type {\n",
              "        vertical-align: middle;\n",
              "    }\n",
              "\n",
              "    .dataframe tbody tr th {\n",
              "        vertical-align: top;\n",
              "    }\n",
              "\n",
              "    .dataframe thead th {\n",
              "        text-align: right;\n",
              "    }\n",
              "</style>\n",
              "<table border=\"1\" class=\"dataframe\">\n",
              "  <thead>\n",
              "    <tr style=\"text-align: right;\">\n",
              "      <th></th>\n",
              "      <th>Person ID</th>\n",
              "      <th>Gender</th>\n",
              "      <th>Age</th>\n",
              "      <th>Occupation</th>\n",
              "      <th>Sleep Duration</th>\n",
              "      <th>Quality of Sleep</th>\n",
              "      <th>Physical Activity Level</th>\n",
              "      <th>Stress Level</th>\n",
              "      <th>BMI Category</th>\n",
              "      <th>Blood Pressure</th>\n",
              "      <th>Heart Rate</th>\n",
              "      <th>Daily Steps</th>\n",
              "      <th>Sleep Disorder</th>\n",
              "    </tr>\n",
              "  </thead>\n",
              "  <tbody>\n",
              "    <tr>\n",
              "      <th>0</th>\n",
              "      <td>1</td>\n",
              "      <td>0</td>\n",
              "      <td>27</td>\n",
              "      <td>Software Engineer</td>\n",
              "      <td>6.1</td>\n",
              "      <td>6</td>\n",
              "      <td>42.0</td>\n",
              "      <td>6.0</td>\n",
              "      <td>Overweight</td>\n",
              "      <td>126/83</td>\n",
              "      <td>77</td>\n",
              "      <td>4200</td>\n",
              "      <td>No</td>\n",
              "    </tr>\n",
              "    <tr>\n",
              "      <th>1</th>\n",
              "      <td>2</td>\n",
              "      <td>0</td>\n",
              "      <td>28</td>\n",
              "      <td>Doctor</td>\n",
              "      <td>6.2</td>\n",
              "      <td>6</td>\n",
              "      <td>60.0</td>\n",
              "      <td>8.0</td>\n",
              "      <td>Normal</td>\n",
              "      <td>125/80</td>\n",
              "      <td>75</td>\n",
              "      <td>10000</td>\n",
              "      <td>No</td>\n",
              "    </tr>\n",
              "    <tr>\n",
              "      <th>2</th>\n",
              "      <td>3</td>\n",
              "      <td>0</td>\n",
              "      <td>28</td>\n",
              "      <td>Doctor</td>\n",
              "      <td>6.2</td>\n",
              "      <td>6</td>\n",
              "      <td>60.0</td>\n",
              "      <td>8.0</td>\n",
              "      <td>Normal</td>\n",
              "      <td>125/80</td>\n",
              "      <td>75</td>\n",
              "      <td>10000</td>\n",
              "      <td>No</td>\n",
              "    </tr>\n",
              "    <tr>\n",
              "      <th>3</th>\n",
              "      <td>4</td>\n",
              "      <td>0</td>\n",
              "      <td>28</td>\n",
              "      <td>Sales Representative</td>\n",
              "      <td>5.9</td>\n",
              "      <td>4</td>\n",
              "      <td>30.0</td>\n",
              "      <td>8.0</td>\n",
              "      <td>Obese</td>\n",
              "      <td>140/90</td>\n",
              "      <td>85</td>\n",
              "      <td>3000</td>\n",
              "      <td>Sleep Apnea</td>\n",
              "    </tr>\n",
              "    <tr>\n",
              "      <th>4</th>\n",
              "      <td>5</td>\n",
              "      <td>0</td>\n",
              "      <td>28</td>\n",
              "      <td>Sales Representative</td>\n",
              "      <td>5.9</td>\n",
              "      <td>4</td>\n",
              "      <td>30.0</td>\n",
              "      <td>8.0</td>\n",
              "      <td>Obese</td>\n",
              "      <td>140/90</td>\n",
              "      <td>85</td>\n",
              "      <td>3000</td>\n",
              "      <td>Sleep Apnea</td>\n",
              "    </tr>\n",
              "  </tbody>\n",
              "</table>\n",
              "</div>\n",
              "    <div class=\"colab-df-buttons\">\n",
              "\n",
              "  <div class=\"colab-df-container\">\n",
              "    <button class=\"colab-df-convert\" onclick=\"convertToInteractive('df-4ce23b38-33f3-418d-ac5b-fdf4cd51cebf')\"\n",
              "            title=\"Convert this dataframe to an interactive table.\"\n",
              "            style=\"display:none;\">\n",
              "\n",
              "  <svg xmlns=\"http://www.w3.org/2000/svg\" height=\"24px\" viewBox=\"0 -960 960 960\">\n",
              "    <path d=\"M120-120v-720h720v720H120Zm60-500h600v-160H180v160Zm220 220h160v-160H400v160Zm0 220h160v-160H400v160ZM180-400h160v-160H180v160Zm440 0h160v-160H620v160ZM180-180h160v-160H180v160Zm440 0h160v-160H620v160Z\"/>\n",
              "  </svg>\n",
              "    </button>\n",
              "\n",
              "  <style>\n",
              "    .colab-df-container {\n",
              "      display:flex;\n",
              "      gap: 12px;\n",
              "    }\n",
              "\n",
              "    .colab-df-convert {\n",
              "      background-color: #E8F0FE;\n",
              "      border: none;\n",
              "      border-radius: 50%;\n",
              "      cursor: pointer;\n",
              "      display: none;\n",
              "      fill: #1967D2;\n",
              "      height: 32px;\n",
              "      padding: 0 0 0 0;\n",
              "      width: 32px;\n",
              "    }\n",
              "\n",
              "    .colab-df-convert:hover {\n",
              "      background-color: #E2EBFA;\n",
              "      box-shadow: 0px 1px 2px rgba(60, 64, 67, 0.3), 0px 1px 3px 1px rgba(60, 64, 67, 0.15);\n",
              "      fill: #174EA6;\n",
              "    }\n",
              "\n",
              "    .colab-df-buttons div {\n",
              "      margin-bottom: 4px;\n",
              "    }\n",
              "\n",
              "    [theme=dark] .colab-df-convert {\n",
              "      background-color: #3B4455;\n",
              "      fill: #D2E3FC;\n",
              "    }\n",
              "\n",
              "    [theme=dark] .colab-df-convert:hover {\n",
              "      background-color: #434B5C;\n",
              "      box-shadow: 0px 1px 3px 1px rgba(0, 0, 0, 0.15);\n",
              "      filter: drop-shadow(0px 1px 2px rgba(0, 0, 0, 0.3));\n",
              "      fill: #FFFFFF;\n",
              "    }\n",
              "  </style>\n",
              "\n",
              "    <script>\n",
              "      const buttonEl =\n",
              "        document.querySelector('#df-4ce23b38-33f3-418d-ac5b-fdf4cd51cebf button.colab-df-convert');\n",
              "      buttonEl.style.display =\n",
              "        google.colab.kernel.accessAllowed ? 'block' : 'none';\n",
              "\n",
              "      async function convertToInteractive(key) {\n",
              "        const element = document.querySelector('#df-4ce23b38-33f3-418d-ac5b-fdf4cd51cebf');\n",
              "        const dataTable =\n",
              "          await google.colab.kernel.invokeFunction('convertToInteractive',\n",
              "                                                    [key], {});\n",
              "        if (!dataTable) return;\n",
              "\n",
              "        const docLinkHtml = 'Like what you see? Visit the ' +\n",
              "          '<a target=\"_blank\" href=https://colab.research.google.com/notebooks/data_table.ipynb>data table notebook</a>'\n",
              "          + ' to learn more about interactive tables.';\n",
              "        element.innerHTML = '';\n",
              "        dataTable['output_type'] = 'display_data';\n",
              "        await google.colab.output.renderOutput(dataTable, element);\n",
              "        const docLink = document.createElement('div');\n",
              "        docLink.innerHTML = docLinkHtml;\n",
              "        element.appendChild(docLink);\n",
              "      }\n",
              "    </script>\n",
              "  </div>\n",
              "\n",
              "\n",
              "<div id=\"df-a50d61e8-33ab-4725-be94-0d335a02115a\">\n",
              "  <button class=\"colab-df-quickchart\" onclick=\"quickchart('df-a50d61e8-33ab-4725-be94-0d335a02115a')\"\n",
              "            title=\"Suggest charts\"\n",
              "            style=\"display:none;\">\n",
              "\n",
              "<svg xmlns=\"http://www.w3.org/2000/svg\" height=\"24px\"viewBox=\"0 0 24 24\"\n",
              "     width=\"24px\">\n",
              "    <g>\n",
              "        <path d=\"M19 3H5c-1.1 0-2 .9-2 2v14c0 1.1.9 2 2 2h14c1.1 0 2-.9 2-2V5c0-1.1-.9-2-2-2zM9 17H7v-7h2v7zm4 0h-2V7h2v10zm4 0h-2v-4h2v4z\"/>\n",
              "    </g>\n",
              "</svg>\n",
              "  </button>\n",
              "\n",
              "<style>\n",
              "  .colab-df-quickchart {\n",
              "      --bg-color: #E8F0FE;\n",
              "      --fill-color: #1967D2;\n",
              "      --hover-bg-color: #E2EBFA;\n",
              "      --hover-fill-color: #174EA6;\n",
              "      --disabled-fill-color: #AAA;\n",
              "      --disabled-bg-color: #DDD;\n",
              "  }\n",
              "\n",
              "  [theme=dark] .colab-df-quickchart {\n",
              "      --bg-color: #3B4455;\n",
              "      --fill-color: #D2E3FC;\n",
              "      --hover-bg-color: #434B5C;\n",
              "      --hover-fill-color: #FFFFFF;\n",
              "      --disabled-bg-color: #3B4455;\n",
              "      --disabled-fill-color: #666;\n",
              "  }\n",
              "\n",
              "  .colab-df-quickchart {\n",
              "    background-color: var(--bg-color);\n",
              "    border: none;\n",
              "    border-radius: 50%;\n",
              "    cursor: pointer;\n",
              "    display: none;\n",
              "    fill: var(--fill-color);\n",
              "    height: 32px;\n",
              "    padding: 0;\n",
              "    width: 32px;\n",
              "  }\n",
              "\n",
              "  .colab-df-quickchart:hover {\n",
              "    background-color: var(--hover-bg-color);\n",
              "    box-shadow: 0 1px 2px rgba(60, 64, 67, 0.3), 0 1px 3px 1px rgba(60, 64, 67, 0.15);\n",
              "    fill: var(--button-hover-fill-color);\n",
              "  }\n",
              "\n",
              "  .colab-df-quickchart-complete:disabled,\n",
              "  .colab-df-quickchart-complete:disabled:hover {\n",
              "    background-color: var(--disabled-bg-color);\n",
              "    fill: var(--disabled-fill-color);\n",
              "    box-shadow: none;\n",
              "  }\n",
              "\n",
              "  .colab-df-spinner {\n",
              "    border: 2px solid var(--fill-color);\n",
              "    border-color: transparent;\n",
              "    border-bottom-color: var(--fill-color);\n",
              "    animation:\n",
              "      spin 1s steps(1) infinite;\n",
              "  }\n",
              "\n",
              "  @keyframes spin {\n",
              "    0% {\n",
              "      border-color: transparent;\n",
              "      border-bottom-color: var(--fill-color);\n",
              "      border-left-color: var(--fill-color);\n",
              "    }\n",
              "    20% {\n",
              "      border-color: transparent;\n",
              "      border-left-color: var(--fill-color);\n",
              "      border-top-color: var(--fill-color);\n",
              "    }\n",
              "    30% {\n",
              "      border-color: transparent;\n",
              "      border-left-color: var(--fill-color);\n",
              "      border-top-color: var(--fill-color);\n",
              "      border-right-color: var(--fill-color);\n",
              "    }\n",
              "    40% {\n",
              "      border-color: transparent;\n",
              "      border-right-color: var(--fill-color);\n",
              "      border-top-color: var(--fill-color);\n",
              "    }\n",
              "    60% {\n",
              "      border-color: transparent;\n",
              "      border-right-color: var(--fill-color);\n",
              "    }\n",
              "    80% {\n",
              "      border-color: transparent;\n",
              "      border-right-color: var(--fill-color);\n",
              "      border-bottom-color: var(--fill-color);\n",
              "    }\n",
              "    90% {\n",
              "      border-color: transparent;\n",
              "      border-bottom-color: var(--fill-color);\n",
              "    }\n",
              "  }\n",
              "</style>\n",
              "\n",
              "  <script>\n",
              "    async function quickchart(key) {\n",
              "      const quickchartButtonEl =\n",
              "        document.querySelector('#' + key + ' button');\n",
              "      quickchartButtonEl.disabled = true;  // To prevent multiple clicks.\n",
              "      quickchartButtonEl.classList.add('colab-df-spinner');\n",
              "      try {\n",
              "        const charts = await google.colab.kernel.invokeFunction(\n",
              "            'suggestCharts', [key], {});\n",
              "      } catch (error) {\n",
              "        console.error('Error during call to suggestCharts:', error);\n",
              "      }\n",
              "      quickchartButtonEl.classList.remove('colab-df-spinner');\n",
              "      quickchartButtonEl.classList.add('colab-df-quickchart-complete');\n",
              "    }\n",
              "    (() => {\n",
              "      let quickchartButtonEl =\n",
              "        document.querySelector('#df-a50d61e8-33ab-4725-be94-0d335a02115a button');\n",
              "      quickchartButtonEl.style.display =\n",
              "        google.colab.kernel.accessAllowed ? 'block' : 'none';\n",
              "    })();\n",
              "  </script>\n",
              "</div>\n",
              "\n",
              "    </div>\n",
              "  </div>\n"
            ],
            "application/vnd.google.colaboratory.intrinsic+json": {
              "type": "dataframe",
              "variable_name": "df",
              "summary": "{\n  \"name\": \"df\",\n  \"rows\": 374,\n  \"fields\": [\n    {\n      \"column\": \"Person ID\",\n      \"properties\": {\n        \"dtype\": \"number\",\n        \"std\": 108,\n        \"min\": 1,\n        \"max\": 374,\n        \"num_unique_values\": 374,\n        \"samples\": [\n          330,\n          34,\n          16\n        ],\n        \"semantic_type\": \"\",\n        \"description\": \"\"\n      }\n    },\n    {\n      \"column\": \"Gender\",\n      \"properties\": {\n        \"dtype\": \"number\",\n        \"std\": 0,\n        \"min\": 0,\n        \"max\": 1,\n        \"num_unique_values\": 2,\n        \"samples\": [\n          1,\n          0\n        ],\n        \"semantic_type\": \"\",\n        \"description\": \"\"\n      }\n    },\n    {\n      \"column\": \"Age\",\n      \"properties\": {\n        \"dtype\": \"number\",\n        \"std\": 8,\n        \"min\": 27,\n        \"max\": 59,\n        \"num_unique_values\": 31,\n        \"samples\": [\n          56,\n          42\n        ],\n        \"semantic_type\": \"\",\n        \"description\": \"\"\n      }\n    },\n    {\n      \"column\": \"Occupation\",\n      \"properties\": {\n        \"dtype\": \"category\",\n        \"num_unique_values\": 11,\n        \"samples\": [\n          \"Engineer\",\n          \"Software Engineer\"\n        ],\n        \"semantic_type\": \"\",\n        \"description\": \"\"\n      }\n    },\n    {\n      \"column\": \"Sleep Duration\",\n      \"properties\": {\n        \"dtype\": \"number\",\n        \"std\": 0.7900613905006657,\n        \"min\": 5.8,\n        \"max\": 8.5,\n        \"num_unique_values\": 27,\n        \"samples\": [\n          7.7,\n          6.7\n        ],\n        \"semantic_type\": \"\",\n        \"description\": \"\"\n      }\n    },\n    {\n      \"column\": \"Quality of Sleep\",\n      \"properties\": {\n        \"dtype\": \"number\",\n        \"std\": 1,\n        \"min\": 4,\n        \"max\": 9,\n        \"num_unique_values\": 6,\n        \"samples\": [\n          6,\n          4\n        ],\n        \"semantic_type\": \"\",\n        \"description\": \"\"\n      }\n    },\n    {\n      \"column\": \"Physical Activity Level\",\n      \"properties\": {\n        \"dtype\": \"number\",\n        \"std\": 20.69475864831558,\n        \"min\": 30.0,\n        \"max\": 90.0,\n        \"num_unique_values\": 16,\n        \"samples\": [\n          42.0,\n          60.0\n        ],\n        \"semantic_type\": \"\",\n        \"description\": \"\"\n      }\n    },\n    {\n      \"column\": \"Stress Level\",\n      \"properties\": {\n        \"dtype\": \"number\",\n        \"std\": 1.7743507134123842,\n        \"min\": 3.0,\n        \"max\": 8.0,\n        \"num_unique_values\": 6,\n        \"samples\": [\n          6.0,\n          8.0\n        ],\n        \"semantic_type\": \"\",\n        \"description\": \"\"\n      }\n    },\n    {\n      \"column\": \"BMI Category\",\n      \"properties\": {\n        \"dtype\": \"category\",\n        \"num_unique_values\": 4,\n        \"samples\": [\n          \"Normal\",\n          \"Normal Weight\"\n        ],\n        \"semantic_type\": \"\",\n        \"description\": \"\"\n      }\n    },\n    {\n      \"column\": \"Blood Pressure\",\n      \"properties\": {\n        \"dtype\": \"category\",\n        \"num_unique_values\": 25,\n        \"samples\": [\n          \"128/85\",\n          \"119/77\"\n        ],\n        \"semantic_type\": \"\",\n        \"description\": \"\"\n      }\n    },\n    {\n      \"column\": \"Heart Rate\",\n      \"properties\": {\n        \"dtype\": \"number\",\n        \"std\": 4,\n        \"min\": 65,\n        \"max\": 86,\n        \"num_unique_values\": 19,\n        \"samples\": [\n          77,\n          80\n        ],\n        \"semantic_type\": \"\",\n        \"description\": \"\"\n      }\n    },\n    {\n      \"column\": \"Daily Steps\",\n      \"properties\": {\n        \"dtype\": \"number\",\n        \"std\": 1617,\n        \"min\": 3000,\n        \"max\": 10000,\n        \"num_unique_values\": 20,\n        \"samples\": [\n          4200,\n          6200\n        ],\n        \"semantic_type\": \"\",\n        \"description\": \"\"\n      }\n    },\n    {\n      \"column\": \"Sleep Disorder\",\n      \"properties\": {\n        \"dtype\": \"category\",\n        \"num_unique_values\": 3,\n        \"samples\": [\n          \"No\",\n          \"Sleep Apnea\"\n        ],\n        \"semantic_type\": \"\",\n        \"description\": \"\"\n      }\n    }\n  ]\n}"
            }
          },
          "metadata": {},
          "execution_count": 25
        }
      ]
    },
    {
      "cell_type": "markdown",
      "source": [
        "=>Step 3: Data Analysis Operations"
      ],
      "metadata": {
        "id": "ED7JnxRn8zsF"
      }
    },
    {
      "cell_type": "markdown",
      "source": [
        "Basic analysis with Numpy and Pandas"
      ],
      "metadata": {
        "id": "yNcLNBTQ-iEH"
      }
    },
    {
      "cell_type": "code",
      "source": [
        "ages = df['Age'].values\n",
        "# 1. Array Slicing\n",
        "print(\"\\nArray Slicing Examples:\")\n",
        "print(\"First 5 ages:\", ages[:5])\n",
        "print(\"Every second age:\", ages[::2])\n",
        "print(\"Reverse order:\", ages[::-1][:5])"
      ],
      "metadata": {
        "colab": {
          "base_uri": "https://localhost:8080/"
        },
        "id": "sjHqdhm5-hH4",
        "outputId": "a16cc6f5-535b-4069-b929-ea4b205c132d"
      },
      "execution_count": 38,
      "outputs": [
        {
          "output_type": "stream",
          "name": "stdout",
          "text": [
            "\n",
            "Array Slicing Examples:\n",
            "First 5 ages: [27 28 28 28 28]\n",
            "Every second age: [27 28 28 29 29 29 29 29 29 29 30 30 30 30 30 30 31 31 31 31 31 31 31 31\n",
            " 31 32 32 32 32 32 32 32 32 32 33 33 33 33 33 33 34 35 35 35 35 35 35 36\n",
            " 36 36 36 36 36 37 37 37 37 37 37 37 37 37 37 38 38 38 38 38 38 38 38 38\n",
            " 38 39 39 39 39 39 39 39 39 40 40 41 41 41 41 41 41 42 42 42 42 43 43 43\n",
            " 43 43 43 43 43 43 43 43 43 43 43 43 43 43 44 44 44 44 44 44 44 44 44 44\n",
            " 44 44 44 44 44 45 45 45 45 45 45 45 48 48 49 49 49 49 49 50 50 50 50 50\n",
            " 50 50 50 50 50 51 51 51 51 52 52 52 52 52 53 53 53 53 53 53 53 53 54 54\n",
            " 54 54 55 56 57 57 57 57 58 58 58 59 59 59 59 59 59 59 59]\n",
            "Reverse order: [59 59 59 59 59]\n"
          ]
        }
      ]
    },
    {
      "cell_type": "code",
      "source": [
        "#2. Universal Functions (ufuncs)\n",
        "print(\"\\nUniversal Functions Examples:\")\n",
        "print(\"Log of age (add 1 to avoid log(0)):\", np.log(ages + 1)[:5])\n",
        "print(\"Square root of age:\", np.sqrt(ages[:5]))"
      ],
      "metadata": {
        "colab": {
          "base_uri": "https://localhost:8080/"
        },
        "id": "n2cYzLMK_UCU",
        "outputId": "013b25a4-c966-42a6-f31a-2fe50c8313b0"
      },
      "execution_count": 39,
      "outputs": [
        {
          "output_type": "stream",
          "name": "stdout",
          "text": [
            "\n",
            "Universal Functions Examples:\n",
            "Log of age (add 1 to avoid log(0)): [3.33220451 3.36729583 3.36729583 3.36729583 3.36729583]\n",
            "Square root of age: [5.19615242 5.29150262 5.29150262 5.29150262 5.29150262]\n"
          ]
        }
      ]
    },
    {
      "cell_type": "code",
      "source": [
        "# 3. Aggregations\n",
        "print(\"\\nAggregation Examples:\")\n",
        "print(\"Max age:\", np.max(ages))\n",
        "print(\"Min stress level:\", np.min(df['Stress Level']))\n",
        "print(\"Mean sleep quality:\", np.mean(df['Quality of Sleep']))"
      ],
      "metadata": {
        "colab": {
          "base_uri": "https://localhost:8080/"
        },
        "id": "rTKeXyQm_VSu",
        "outputId": "31cf5e14-882e-47a4-8d4d-0dcdd8825e70"
      },
      "execution_count": 40,
      "outputs": [
        {
          "output_type": "stream",
          "name": "stdout",
          "text": [
            "\n",
            "Aggregation Examples:\n",
            "Max age: 59\n",
            "Min stress level: 3.0\n",
            "Mean sleep quality: 7.31283422459893\n"
          ]
        }
      ]
    },
    {
      "cell_type": "code",
      "source": [
        "# 4. Broadcasting\n",
        "print(\"\\nBroadcasting Example:\")\n",
        "normalized_age = (ages - ages.mean()) / ages.std()\n",
        "print(\"First 5 normalized ages (z-score):\", normalized_age[:5])"
      ],
      "metadata": {
        "colab": {
          "base_uri": "https://localhost:8080/"
        },
        "id": "alNXoUgc_VKa",
        "outputId": "69443999-39e6-4671-e45d-7fc24f59f04f"
      },
      "execution_count": 41,
      "outputs": [
        {
          "output_type": "stream",
          "name": "stdout",
          "text": [
            "\n",
            "Broadcasting Example:\n",
            "First 5 normalized ages (z-score): [-1.75309569 -1.63764266 -1.63764266 -1.63764266 -1.63764266]\n"
          ]
        }
      ]
    },
    {
      "cell_type": "code",
      "source": [
        "# 5. Boolean Masking\n",
        "print(\"\\nBoolean Masking:\")\n",
        "active_sleepers = df[(df['Physical Activity Level'] > 8) & (df['Sleep Duration'] > 7)]\n",
        "print(\"Highly active and well-rested people:\", active_sleepers.shape[0])"
      ],
      "metadata": {
        "colab": {
          "base_uri": "https://localhost:8080/"
        },
        "id": "BSXgGfBb_VG_",
        "outputId": "9582e2d3-e727-4ec7-e371-c2b1ecbd1e62"
      },
      "execution_count": 42,
      "outputs": [
        {
          "output_type": "stream",
          "name": "stdout",
          "text": [
            "\n",
            "Boolean Masking:\n",
            "Highly active and well-rested people: 221\n"
          ]
        }
      ]
    },
    {
      "cell_type": "code",
      "source": [
        "# 6. Sorting with argsort\n",
        "print(\"\\nSorting with argsort:\")\n",
        "age_sorted_indices = np.argsort(ages)\n",
        "print(\"Indices of 5 youngest people:\", age_sorted_indices[:5])\n",
        "print(\"Youngest ages:\", ages[age_sorted_indices[:5]])"
      ],
      "metadata": {
        "colab": {
          "base_uri": "https://localhost:8080/"
        },
        "id": "D5y3e_5i_VBD",
        "outputId": "f368f0d6-0baf-43de-a00d-58c33ba4c11a"
      },
      "execution_count": 43,
      "outputs": [
        {
          "output_type": "stream",
          "name": "stdout",
          "text": [
            "\n",
            "Sorting with argsort:\n",
            "Indices of 5 youngest people: [0 1 2 3 4]\n",
            "Youngest ages: [27 28 28 28 28]\n"
          ]
        }
      ]
    },
    {
      "cell_type": "code",
      "source": [
        "# 7. Partial Sorting\n",
        "print(\"\\nPartial Sorting (np.partition):\")\n",
        "five_smallest_ages = np.partition(ages, 5)[:5]\n",
        "print(\"Five smallest ages (unsorted):\", five_smallest_ages)"
      ],
      "metadata": {
        "colab": {
          "base_uri": "https://localhost:8080/"
        },
        "id": "o583KGZR_U9h",
        "outputId": "bf6a8753-873c-4d58-d7dd-f808ab94bc43"
      },
      "execution_count": 44,
      "outputs": [
        {
          "output_type": "stream",
          "name": "stdout",
          "text": [
            "\n",
            "Partial Sorting (np.partition):\n",
            "Five smallest ages (unsorted): [27 28 28 28 28]\n"
          ]
        }
      ]
    },
    {
      "cell_type": "code",
      "source": [
        "# 8. Structured Array\n",
        "print(\"\\nStructured Array Example:\")\n",
        "structured = np.array(list(zip(df['Age'], df['Gender'], df['Sleep Duration'])),\n",
        "                      dtype=[('Age', 'i4'), ('Gender', 'i4'), ('Sleep', 'f4')])\n",
        "print(\"Structured array (first 3 rows):\", structured[:3])\n",
        "# Filtering from structured array\n",
        "print(\"People with sleep < 6 hours:\", structured[structured['Sleep'] < 6])"
      ],
      "metadata": {
        "colab": {
          "base_uri": "https://localhost:8080/"
        },
        "id": "ZMc1IGgY_U6b",
        "outputId": "0e500cc3-4284-4d93-fa19-5088ff642fdd"
      },
      "execution_count": 45,
      "outputs": [
        {
          "output_type": "stream",
          "name": "stdout",
          "text": [
            "\n",
            "Structured Array Example:\n",
            "Structured array (first 3 rows): [(27, 0, 6.1) (28, 0, 6.2) (28, 0, 6.2)]\n",
            "People with sleep < 6 hours: [(28, 0, 5.9) (28, 0, 5.9) (28, 0, 5.9) (34, 1, 5.8) (34, 1, 5.8)\n",
            " (48, 1, 5.9)]\n"
          ]
        }
      ]
    },
    {
      "cell_type": "code",
      "source": [
        "# 9. Hierarchical Indexing (MultiIndex in Pandas)\n",
        "print(\"\\nHierarchical Indexing (MultiIndex):\")\n",
        "multi_df = df.set_index(['Occupation', 'Gender'])\n",
        "print(\"Sleep duration for Teacher (Female):\")\n",
        "print(multi_df.loc[('Teacher', 1), 'Sleep Duration'])"
      ],
      "metadata": {
        "colab": {
          "base_uri": "https://localhost:8080/"
        },
        "id": "-69Nlbwe_U3j",
        "outputId": "e9556bcc-ea19-43c0-d610-9cc76bc16f85"
      },
      "execution_count": 46,
      "outputs": [
        {
          "output_type": "stream",
          "name": "stdout",
          "text": [
            "\n",
            "Hierarchical Indexing (MultiIndex):\n",
            "Sleep duration for Teacher (Female):\n",
            "Occupation  Gender\n",
            "Teacher     1         7.1\n",
            "            1         7.1\n",
            "            1         7.2\n",
            "            1         7.2\n",
            "            1         7.2\n",
            "            1         7.2\n",
            "            1         6.8\n",
            "            1         6.8\n",
            "            1         6.7\n",
            "            1         6.7\n",
            "            1         6.7\n",
            "            1         6.6\n",
            "            1         6.6\n",
            "            1         6.6\n",
            "            1         6.6\n",
            "            1         6.6\n",
            "            1         6.6\n",
            "            1         6.6\n",
            "            1         6.5\n",
            "            1         6.5\n",
            "            1         6.5\n",
            "            1         6.5\n",
            "            1         6.8\n",
            "            1         6.8\n",
            "            1         6.5\n",
            "            1         6.5\n",
            "            1         6.5\n",
            "            1         6.5\n",
            "            1         6.6\n",
            "            1         6.6\n",
            "            1         6.6\n",
            "            1         6.6\n",
            "            1         6.6\n",
            "            1         6.6\n",
            "            1         6.6\n",
            "Name: Sleep Duration, dtype: float64\n"
          ]
        },
        {
          "output_type": "stream",
          "name": "stderr",
          "text": [
            "<ipython-input-46-f25ec6089664>:5: PerformanceWarning: indexing past lexsort depth may impact performance.\n",
            "  print(multi_df.loc[('Teacher', 1), 'Sleep Duration'])\n"
          ]
        }
      ]
    },
    {
      "cell_type": "code",
      "source": [
        "print(\"\\nBasic Statistics:\")\n",
        "print(\"Mean Sleep Duration:\", np.mean(df['Sleep Duration']))\n",
        "print()\n",
        "print(\"Median Quality of Sleep:\", np.median(df['Quality of Sleep']))\n",
        "print()\n",
        "print(\"Standard Deviation of Physical Activity Level:\", np.std(df['Physical Activity Level']))\n",
        "print()\n",
        "print(df.describe())"
      ],
      "metadata": {
        "colab": {
          "base_uri": "https://localhost:8080/"
        },
        "id": "jw7Ih3Qf8w5T",
        "outputId": "c90d5cbb-7cf7-4028-9c38-22e552beebba"
      },
      "execution_count": 27,
      "outputs": [
        {
          "output_type": "stream",
          "name": "stdout",
          "text": [
            "\n",
            "Basic Statistics:\n",
            "Mean Sleep Duration: 7.132887700534759\n",
            "\n",
            "Median Quality of Sleep: 7.0\n",
            "\n",
            "Standard Deviation of Physical Activity Level: 20.66707334006967\n",
            "\n",
            "        Person ID      Gender         Age  Sleep Duration  Quality of Sleep  \\\n",
            "count  374.000000  374.000000  374.000000      374.000000        374.000000   \n",
            "mean   187.500000    0.494652   42.184492        7.132888          7.312834   \n",
            "std    108.108742    0.500641    8.673133        0.790061          1.196956   \n",
            "min      1.000000    0.000000   27.000000        5.800000          4.000000   \n",
            "25%     94.250000    0.000000   35.250000        6.425000          6.000000   \n",
            "50%    187.500000    0.000000   43.000000        7.200000          7.000000   \n",
            "75%    280.750000    1.000000   50.000000        7.800000          8.000000   \n",
            "max    374.000000    1.000000   59.000000        8.500000          9.000000   \n",
            "\n",
            "       Physical Activity Level  Stress Level  Heart Rate   Daily Steps  \n",
            "count               374.000000    374.000000  374.000000    374.000000  \n",
            "mean                 59.259358      5.382353   70.165775   6816.844920  \n",
            "std                  20.694759      1.774351    4.135676   1617.915679  \n",
            "min                  30.000000      3.000000   65.000000   3000.000000  \n",
            "25%                  45.000000      4.000000   68.000000   5600.000000  \n",
            "50%                  60.000000      5.000000   70.000000   7000.000000  \n",
            "75%                  75.000000      7.000000   72.000000   8000.000000  \n",
            "max                  90.000000      8.000000   86.000000  10000.000000  \n"
          ]
        }
      ]
    },
    {
      "cell_type": "code",
      "source": [
        "# Filter people with high stress\n",
        "high_stress = df[df['Stress Level'] > 7]\n",
        "print(\"\\nHigh stress individuals:\\n\", high_stress[['Age', 'Stress Level']])"
      ],
      "metadata": {
        "colab": {
          "base_uri": "https://localhost:8080/"
        },
        "id": "dP1vMYGp9QkU",
        "outputId": "2726c7e6-d818-4df1-b943-896fbb77b001"
      },
      "execution_count": 30,
      "outputs": [
        {
          "output_type": "stream",
          "name": "stdout",
          "text": [
            "\n",
            "High stress individuals:\n",
            "      Age  Stress Level\n",
            "1     28           8.0\n",
            "2     28           8.0\n",
            "3     28           8.0\n",
            "4     28           8.0\n",
            "5     28           8.0\n",
            "..   ...           ...\n",
            "296   50           8.0\n",
            "297   50           8.0\n",
            "303   51           8.0\n",
            "304   51           8.0\n",
            "305   51           8.0\n",
            "\n",
            "[70 rows x 2 columns]\n"
          ]
        }
      ]
    },
    {
      "cell_type": "code",
      "source": [
        "# Advanced Analysis\n",
        "# Group by Occupation and average sleep duration\n",
        "occupation_sleep = df.groupby('Occupation')['Sleep Duration'].mean()\n",
        "print(\"\\nAverage Sleep Duration by Occupation:\\n\", occupation_sleep)"
      ],
      "metadata": {
        "colab": {
          "base_uri": "https://localhost:8080/"
        },
        "id": "KQ-Mdlcq9aZ4",
        "outputId": "b8aed39f-2668-4042-dc41-7dec5022bb67"
      },
      "execution_count": 31,
      "outputs": [
        {
          "output_type": "stream",
          "name": "stdout",
          "text": [
            "\n",
            "Average Sleep Duration by Occupation:\n",
            " Occupation\n",
            "Accountant              7.113514\n",
            "Doctor                  6.944118\n",
            "Engineer                7.987302\n",
            "Lawyer                  7.410638\n",
            "Manager                 6.900000\n",
            "Nurse                   7.075000\n",
            "Sales Representative    5.900000\n",
            "Salesperson             6.403125\n",
            "Scientist               6.000000\n",
            "Software Engineer       6.750000\n",
            "Teacher                 6.712500\n",
            "Name: Sleep Duration, dtype: float64\n"
          ]
        }
      ]
    },
    {
      "cell_type": "code",
      "source": [
        "#pivot tables\n",
        "pivot_quality = pd.pivot_table(df, values='Quality of Sleep', index='BMI Category', columns='Gender', aggfunc='mean')\n",
        "print(\"\\nPivot Table - Sleep Quality:\")\n",
        "print()\n",
        "print(pivot_quality)"
      ],
      "metadata": {
        "colab": {
          "base_uri": "https://localhost:8080/"
        },
        "id": "htDTX24q9ilS",
        "outputId": "95ee5e98-f9ad-4170-8af5-33717c2b9a3b"
      },
      "execution_count": 36,
      "outputs": [
        {
          "output_type": "stream",
          "name": "stdout",
          "text": [
            "\n",
            "Pivot Table - Sleep Quality:\n",
            "\n",
            "Gender                0         1\n",
            "BMI Category                     \n",
            "Normal         7.251908  8.500000\n",
            "Normal Weight  7.714286  7.285714\n",
            "Obese          6.333333  7.000000\n",
            "Overweight     6.095238  7.216981\n"
          ]
        }
      ]
    },
    {
      "cell_type": "markdown",
      "source": [
        "=>Step 4: Data Visualization"
      ],
      "metadata": {
        "id": "vnEVgVxE_7e4"
      }
    },
    {
      "cell_type": "code",
      "source": [
        "#A. Basic Matplotlib Plots\n",
        "#B. Seaborn Visualizations\n",
        "#C. Advanced Seaborn Plot\n",
        "# Histogram of Sleep Duration\n",
        "counts, bins = np.histogram(df['Sleep Duration'], bins=10)\n",
        "bin_centers = 0.5 * (bins[1:] + bins[:-1])\n",
        "plt.figure(figsize=(8, 5))\n",
        "plt.bar(bin_centers, counts, width=(bins[1] - bins[0]) * 0.8, color='skyblue', edgecolor='black')  # 0.8 for spacing\n",
        "plt.title(\"Sleep Duration Distribution\")\n",
        "plt.xlabel(\"Hours\")\n",
        "plt.ylabel(\"Frequency\")\n",
        "plt.grid(axis='y', linestyle='--', alpha=0.5)\n",
        "plt.tight_layout()\n",
        "plt.show()"
      ],
      "metadata": {
        "colab": {
          "base_uri": "https://localhost:8080/",
          "height": 507
        },
        "id": "X7MXkwfnACM1",
        "outputId": "3dfa5659-ba07-4599-b34e-94e7b440bb0c"
      },
      "execution_count": 49,
      "outputs": [
        {
          "output_type": "display_data",
          "data": {
            "text/plain": [
              "<Figure size 800x500 with 1 Axes>"
            ],
            "image/png": "[encoded data removed]"
          },
          "metadata": {}
        }
      ]
    },
    {
      "cell_type": "code",
      "source": [
        "# Line Plot: Average Sleep Duration by Age (separated by Gender)\n",
        "\n",
        "# Group data: average sleep duration per age for each gender\n",
        "avg_sleep_by_age_gender = df.groupby(['Age', 'Gender'])['Sleep Duration'].mean().reset_index()\n",
        "\n",
        "# Plot line chart\n",
        "plt.figure(figsize=(10, 5))\n",
        "sns.lineplot(x='Age', y='Sleep Duration', hue='Gender', data=avg_sleep_by_age_gender, palette='Set2')\n",
        "plt.title(\"Average Sleep Duration by Age and Gender\")\n",
        "plt.xlabel(\"Age\")\n",
        "plt.ylabel(\"Average Sleep Duration (hrs)\")\n",
        "plt.xticks(rotation=45)\n",
        "plt.legend(title='Gender', labels=['Male', 'Female'])\n",
        "plt.tight_layout()\n",
        "plt.show()\n"
      ],
      "metadata": {
        "colab": {
          "base_uri": "https://localhost:8080/",
          "height": 507
        },
        "id": "MYWt1pSiCLKi",
        "outputId": "880ad152-d306-4f7d-a133-0c8daff05cf9"
      },
      "execution_count": 58,
      "outputs": [
        {
          "output_type": "display_data",
          "data": {
            "text/plain": [
              "<Figure size 1000x500 with 1 Axes>"
            ],
            "image/png": "[encoded data removed]"
          },
          "metadata": {}
        }
      ]
    },
    {
      "cell_type": "code",
      "source": [
        "# Bar Plot - Stress Level by Gender\n",
        "sns.barplot(x='Gender', y='Stress Level', data=df)\n",
        "plt.title(\"Average Stress Level by Gender\")\n",
        "plt.xticks([0, 1], ['Male', 'Female'])\n",
        "plt.show()"
      ],
      "metadata": {
        "colab": {
          "base_uri": "https://localhost:8080/",
          "height": 472
        },
        "id": "e-Wx_3i6A0ef",
        "outputId": "ca314361-8b13-41bd-c672-2bc44bcd6b3c"
      },
      "execution_count": 51,
      "outputs": [
        {
          "output_type": "display_data",
          "data": {
            "text/plain": [
              "<Figure size 640x480 with 1 Axes>"
            ],
            "image/png": "[encoded data removed]"
          },
          "metadata": {}
        }
      ]
    },
    {
      "cell_type": "code",
      "source": [
        "# Scatter Plot - Physical Activity vs Quality of Sleep\n",
        "plt.figure(figsize=(8, 5))\n",
        "plt.figure(figsize=(8, 5))\n",
        "sns.scatterplot(\n",
        "    x='Physical Activity Level',\n",
        "    y='Quality of Sleep',\n",
        "    hue=df['Gender'].map({0: 'Male', 1: 'Female'}),\n",
        "    data=df,\n",
        "    palette={'Male': 'blue', 'Female': 'pink'}\n",
        ")\n",
        "plt.title(\"Physical Activity vs Sleep Quality\")\n",
        "plt.xlabel(\"Physical Activity Level\")\n",
        "plt.ylabel(\"Quality of Sleep\")\n",
        "plt.legend(title='Gender')\n",
        "plt.tight_layout()\n",
        "plt.show()"
      ],
      "metadata": {
        "colab": {
          "base_uri": "https://localhost:8080/",
          "height": 524
        },
        "id": "zSEZ9qlyA6BO",
        "outputId": "f1f479d3-cc53-4036-e26b-39260d9dafac"
      },
      "execution_count": 54,
      "outputs": [
        {
          "output_type": "display_data",
          "data": {
            "text/plain": [
              "<Figure size 800x500 with 0 Axes>"
            ]
          },
          "metadata": {}
        },
        {
          "output_type": "display_data",
          "data": {
            "text/plain": [
              "<Figure size 800x500 with 1 Axes>"
            ],
            "image/png": "[encoded data removed]"
          },
          "metadata": {}
        }
      ]
    },
    {
      "cell_type": "code",
      "source": [
        "# Boxplot - Sleep Duration by Occupation\n",
        "sns.boxplot(x='Occupation', y='Sleep Duration', data=df)\n",
        "plt.title(\"Sleep Duration by Occupation\")\n",
        "plt.xticks(rotation=45)\n",
        "plt.show()"
      ],
      "metadata": {
        "colab": {
          "base_uri": "https://localhost:8080/",
          "height": 571
        },
        "id": "zbZQf7SZBMQH",
        "outputId": "05229d37-f8f7-4410-a394-b9d52ff7746e"
      },
      "execution_count": 55,
      "outputs": [
        {
          "output_type": "display_data",
          "data": {
            "text/plain": [
              "<Figure size 640x480 with 1 Axes>"
            ],
            "image/png": "[encoded data removed]"
          },
          "metadata": {}
        }
      ]
    },
    {
      "cell_type": "markdown",
      "source": [
        "=>Step 5: Advanced NumPy Operations"
      ],
      "metadata": {
        "id": "dRtSf7_GC5_v"
      }
    },
    {
      "cell_type": "code",
      "source": [
        "#Normalize the Age column (Z-score)\n",
        "age_mean = np.mean(df['Age'])\n",
        "age_std = np.std(df['Age'])\n",
        "df['Age_zscore'] = (df['Age'] - age_mean) / age_std\n",
        "\n",
        "print(\"First 5 rows with normalized age:\")\n",
        "print(df[['Age', 'Age_zscore']].head())\n"
      ],
      "metadata": {
        "colab": {
          "base_uri": "https://localhost:8080/"
        },
        "id": "jQNOlQZNC_Sc",
        "outputId": "67d57f37-c83f-430e-a297-6293a5895983"
      },
      "execution_count": 59,
      "outputs": [
        {
          "output_type": "stream",
          "name": "stdout",
          "text": [
            "First 5 rows with normalized age:\n",
            "   Age  Age_zscore\n",
            "0   27   -1.753096\n",
            "1   28   -1.637643\n",
            "2   28   -1.637643\n",
            "3   28   -1.637643\n",
            "4   28   -1.637643\n"
          ]
        }
      ]
    },
    {
      "cell_type": "code",
      "source": [
        "#Boolean Indexing with NumPy: Age 25-35\n",
        "youngish_adults = df[np.logical_and(ages >= 25, ages <= 35)]\n",
        "print(f\"Number of adults aged 25–35: {len(youngish_adults)}\")\n",
        "print(\"Sample:\")\n",
        "print(youngish_adults[['Age', 'Gender', 'Occupation', 'Sleep Duration', 'Stress Level']].head())\n"
      ],
      "metadata": {
        "colab": {
          "base_uri": "https://localhost:8080/"
        },
        "id": "EC3goJXnDEWI",
        "outputId": "564ec3de-45fe-44e4-daab-194593803f68"
      },
      "execution_count": 63,
      "outputs": [
        {
          "output_type": "stream",
          "name": "stdout",
          "text": [
            "Number of adults aged 25–35: 94\n",
            "Sample:\n",
            "   Age  Gender            Occupation  Sleep Duration  Stress Level\n",
            "0   27       0     Software Engineer             6.1           6.0\n",
            "1   28       0                Doctor             6.2           8.0\n",
            "2   28       0                Doctor             6.2           8.0\n",
            "3   28       0  Sales Representative             5.9           8.0\n",
            "4   28       0  Sales Representative             5.9           8.0\n"
          ]
        }
      ]
    },
    {
      "cell_type": "code",
      "source": [
        "# New Column: Sleep Efficiency (hypothetical formula)\n",
        "df['Sleep_Efficiency'] = df['Sleep Duration'] - df['Stress Level']\n",
        "\n",
        "print(\"New column 'Sleep_Efficiency' added:\")\n",
        "print(df[['Sleep Duration', 'Stress Level', 'Sleep_Efficiency']].head())\n"
      ],
      "metadata": {
        "colab": {
          "base_uri": "https://localhost:8080/"
        },
        "id": "xNHy-RA_Dysb",
        "outputId": "d06762f4-0de9-4fd7-f8d3-3dcfa0dfe8c3"
      },
      "execution_count": 65,
      "outputs": [
        {
          "output_type": "stream",
          "name": "stdout",
          "text": [
            "New column 'Sleep_Efficiency' added:\n",
            "   Sleep Duration  Stress Level  Sleep_Efficiency\n",
            "0             6.1           6.0               0.1\n",
            "1             6.2           8.0              -1.8\n",
            "2             6.2           8.0              -1.8\n",
            "3             5.9           8.0              -2.1\n",
            "4             5.9           8.0              -2.1\n"
          ]
        }
      ]
    },
    {
      "cell_type": "code",
      "source": [
        "# Group by Occupation\n",
        "grouped_stats = df.groupby('Occupation')[['Sleep Duration', 'Stress Level']].mean()\n",
        "\n",
        "print(\"Average Sleep Duration and Stress Level by Occupation:\")\n",
        "print(grouped_stats)\n"
      ],
      "metadata": {
        "colab": {
          "base_uri": "https://localhost:8080/"
        },
        "id": "Of76lbskD4zJ",
        "outputId": "8d5f2f17-0c2b-4db7-b331-6cde24f5a9ba"
      },
      "execution_count": 67,
      "outputs": [
        {
          "output_type": "stream",
          "name": "stdout",
          "text": [
            "Average Sleep Duration and Stress Level by Occupation:\n",
            "                      Sleep Duration  Stress Level\n",
            "Occupation                                        \n",
            "Accountant                  7.113514      4.594595\n",
            "Doctor                      6.944118      6.750000\n",
            "Engineer                    7.987302      3.888889\n",
            "Lawyer                      7.410638      5.063830\n",
            "Manager                     6.900000      5.000000\n",
            "Nurse                       7.075000      5.565789\n",
            "Sales Representative        5.900000      8.000000\n",
            "Salesperson                 6.403125      7.000000\n",
            "Scientist                   6.000000      7.000000\n",
            "Software Engineer           6.750000      6.000000\n",
            "Teacher                     6.712500      4.525000\n"
          ]
        }
      ]
    },
    {
      "cell_type": "code",
      "source": [
        "#Merging Two Datasets\n",
        "df_sleep = df[['Person ID', 'Sleep Duration', 'Quality of Sleep']]\n",
        "df_health = df[['Person ID', 'Stress Level', 'Physical Activity Level']]\n",
        "\n",
        "# Merge on 'Person ID'\n",
        "merged_df = pd.merge(df_sleep, df_health, on='Person ID')\n",
        "\n",
        "print(\"Merged Data Sample:\")\n",
        "print(merged_df.head())\n"
      ],
      "metadata": {
        "colab": {
          "base_uri": "https://localhost:8080/"
        },
        "id": "q8nunLhxD9N3",
        "outputId": "84cfb005-8b33-4ba2-ea8a-626ddae6d9c4"
      },
      "execution_count": 68,
      "outputs": [
        {
          "output_type": "stream",
          "name": "stdout",
          "text": [
            "Merged Data Sample:\n",
            "   Person ID  Sleep Duration  Quality of Sleep  Stress Level  \\\n",
            "0          1             6.1                 6           6.0   \n",
            "1          2             6.2                 6           8.0   \n",
            "2          3             6.2                 6           8.0   \n",
            "3          4             5.9                 4           8.0   \n",
            "4          5             5.9                 4           8.0   \n",
            "\n",
            "   Physical Activity Level  \n",
            "0                     42.0  \n",
            "1                     60.0  \n",
            "2                     60.0  \n",
            "3                     30.0  \n",
            "4                     30.0  \n"
          ]
        }
      ]
    },
    {
      "cell_type": "code",
      "source": [
        "#Pivot Table\n",
        "#Pivot Table 1: Average Sleep Quality per BMI Category\n",
        "pivot1 = pd.pivot_table(df, index='BMI Category', values='Quality of Sleep', aggfunc='mean')\n",
        "print(\"Pivot Table 1 - Sleep Quality by BMI Category:\")\n",
        "print(pivot1)"
      ],
      "metadata": {
        "colab": {
          "base_uri": "https://localhost:8080/"
        },
        "id": "yQjL6Cm-EI3X",
        "outputId": "39cb4c8c-356e-40b1-cdd9-39222764c13c"
      },
      "execution_count": 69,
      "outputs": [
        {
          "output_type": "stream",
          "name": "stdout",
          "text": [
            "Pivot Table 1 - Sleep Quality by BMI Category:\n",
            "               Quality of Sleep\n",
            "BMI Category                   \n",
            "Normal                 7.661538\n",
            "Normal Weight          7.428571\n",
            "Obese                  6.400000\n",
            "Overweight             6.898649\n"
          ]
        }
      ]
    },
    {
      "cell_type": "code",
      "source": [
        "#Pivot Table 2: Mean Sleep Duration per Occupation and Gender\n",
        "pivot2 = pd.pivot_table(df, index='Occupation', columns='Gender', values='Sleep Duration', aggfunc='mean')\n",
        "print(\"Pivot Table 2 - Sleep Duration by Occupation and Gender:\")\n",
        "print(pivot2)"
      ],
      "metadata": {
        "id": "gfMVQ4wUEbSb"
      },
      "execution_count": null,
      "outputs": []
    },
    {
      "cell_type": "code",
      "source": [
        "#Pivot Table 3: Average Stress Level by Age and Gender\n",
        "pivot3 = pd.pivot_table(df, index='Age', columns='Gender', values='Stress Level', aggfunc='mean')\n",
        "print(\"Pivot Table 3 - Average Stress Level by Age and Gender:\")\n",
        "print(pivot3)"
      ],
      "metadata": {
        "colab": {
          "base_uri": "https://localhost:8080/"
        },
        "id": "byIfVtOEEfuK",
        "outputId": "03a1b640-603c-4cf6-fff8-d2d4e0dc0a4c"
      },
      "execution_count": 71,
      "outputs": [
        {
          "output_type": "stream",
          "name": "stdout",
          "text": [
            "Pivot Table 3 - Average Stress Level by Age and Gender:\n",
            "Gender         0         1\n",
            "Age                       \n",
            "27      6.000000       NaN\n",
            "28      8.000000       NaN\n",
            "29      7.181818  7.000000\n",
            "30      6.000000  7.000000\n",
            "31      6.294118  4.000000\n",
            "32      6.941176       NaN\n",
            "33      8.000000  6.000000\n",
            "34           NaN  8.000000\n",
            "35      4.454545  4.000000\n",
            "36      7.000000  4.000000\n",
            "37      4.600000  4.133333\n",
            "38      5.000000  4.111111\n",
            "39      5.166667  4.000000\n",
            "40      5.000000  6.000000\n",
            "41      5.250000       NaN\n",
            "42      5.285714  7.000000\n",
            "43      5.870968  4.000000\n",
            "44      7.000000  4.000000\n",
            "45           NaN  4.357143\n",
            "48      5.000000  8.000000\n",
            "49      3.000000  8.000000\n",
            "50           NaN  7.750000\n",
            "51           NaN  5.250000\n",
            "52           NaN  5.666667\n",
            "53           NaN  3.000000\n",
            "54           NaN  3.000000\n",
            "55           NaN  4.000000\n",
            "56           NaN  3.000000\n",
            "57           NaN  3.000000\n",
            "58           NaN  3.000000\n",
            "59           NaN  3.000000\n"
          ]
        }
      ]
    },
    {
      "cell_type": "code",
      "source": [
        "# Equivalent to pivot1 using groupby\n",
        "grouped_bmi = df.groupby('BMI Category')['Quality of Sleep'].mean()\n",
        "print(\"GroupBy Comparison - Sleep Quality by BMI Category:\")\n",
        "print(grouped_bmi)\n",
        "print()\n",
        "# Equivalent to pivot2 using groupby + unstack\n",
        "grouped_occ_gender = df.groupby(['Occupation', 'Gender'])['Sleep Duration'].mean().unstack()\n",
        "print(\"GroupBy Comparison - Sleep Duration by Occupation and Gender:\")\n",
        "print(grouped_occ_gender)\n"
      ],
      "metadata": {
        "colab": {
          "base_uri": "https://localhost:8080/"
        },
        "id": "-MzkVt4WE8oD",
        "outputId": "3807b3df-5be7-46d3-bff4-86a78fe47f1f"
      },
      "execution_count": 74,
      "outputs": [
        {
          "output_type": "stream",
          "name": "stdout",
          "text": [
            "GroupBy Comparison - Sleep Quality by BMI Category:\n",
            "BMI Category\n",
            "Normal           7.661538\n",
            "Normal Weight    7.428571\n",
            "Obese            6.400000\n",
            "Overweight       6.898649\n",
            "Name: Quality of Sleep, dtype: float64\n",
            "\n",
            "GroupBy Comparison - Sleep Duration by Occupation and Gender:\n",
            "Gender                       0         1\n",
            "Occupation                              \n",
            "Accountant            7.200000  7.111111\n",
            "Doctor                6.906061  8.200000\n",
            "Engineer              7.535484  8.425000\n",
            "Lawyer                7.422222  7.150000\n",
            "Manager                    NaN  6.900000\n",
            "Nurse                 7.366667  7.063014\n",
            "Sales Representative  5.900000       NaN\n",
            "Salesperson           6.403125       NaN\n",
            "Scientist                  NaN  6.000000\n",
            "Software Engineer     6.750000       NaN\n",
            "Teacher               6.760000  6.705714\n"
          ]
        }
      ]
    }
  ]
}